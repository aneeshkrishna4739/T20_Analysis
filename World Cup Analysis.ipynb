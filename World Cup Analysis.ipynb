{
 "cells": [
  {
   "cell_type": "code",
   "execution_count": 1,
   "id": "0e601764",
   "metadata": {},
   "outputs": [],
   "source": [
    "import pandas as pd\n",
    "import numpy as np\n",
    "import os\n",
    "import seaborn as sns\n",
    "import matplotlib.pyplot as plt\n",
    "from sklearn.preprocessing import StandardScaler"
   ]
  },
  {
   "cell_type": "code",
   "execution_count": null,
   "id": "89d53f35",
   "metadata": {},
   "outputs": [],
   "source": [
    "df_org = pd.read_csv('docs/t20_bbb.csv')"
   ]
  },
  {
   "cell_type": "code",
   "execution_count": null,
   "id": "fc746f16",
   "metadata": {},
   "outputs": [],
   "source": [
    "df_org=df_org[(df_org['ball']<=11)]\n",
    "df_org=df_org[(df_org['over']<=20)]\n",
    "df_org=df_org[(df_org['batruns']>=0) & (df_org['bowlruns']>=0)]\n",
    "df_org.shape"
   ]
  },
  {
   "cell_type": "code",
   "execution_count": null,
   "id": "08970742",
   "metadata": {},
   "outputs": [],
   "source": [
    "def bowl_style_clean(df,unique_styles):\n",
    "\n",
    "    df['bowl_style'] = df['bowl_style'].replace(['RFM', 'RMF'], 'RFM')\n",
    "    df['bowl_style'] = df['bowl_style'].replace(['LFM', 'LMF'], 'LFM')\n",
    "    df['bowl_style'] = df['bowl_style'].replace(['LBG', 'LB'], 'RWS')\n",
    "    df['bowl_style'] = df['bowl_style'].replace(['LS', 'SLA'], 'SLA')\n",
    "    df['bowl_style'] = df['bowl_style'].replace(['RAB'], 'RSM')\n",
    "    df['bowl_style'] = df['bowl_style'].replace(['LAB'], 'LSM')\n",
    "    unique_styles = ['LFM/SLA', 'OB/LB','LM/SLA/LWS','OB/SLA','RMF/OB', 'RFM/OB', 'OB/LBG', 'RFM/LBG', 'RM/LB',\n",
    "           'RM/LBG', 'LMF/RM', 'RM/RSM', 'SLA/LWS', 'RMF/LB', 'RFM/LB',\n",
    "           'RM/OB/LB']\n",
    "    replacements = {\n",
    "        'RFM': 'RFM',\n",
    "        'RMF': 'RFM',\n",
    "        'LFM': 'LFM',\n",
    "        'LMF': 'LFM',\n",
    "        'LBG': 'RWS',\n",
    "        'LB': 'RWS',\n",
    "        'LS': 'SLA',\n",
    "        'SLA': 'SLA',\n",
    "        'RAB': 'RS',\n",
    "        'LAB': 'LS'\n",
    "    }\n",
    "\n",
    "    # Iterate over unique styles and apply replacements\n",
    "    for style in unique_styles:\n",
    "        replaced_style = '/'.join([replacements.get(part, part) for part in style.split('/')])\n",
    "        df['bowl_style'] = df['bowl_style'].replace([style], replaced_style)\n",
    "    #df['bowl_style'].unique()\n",
    "    return df\n",
    "unique_styles = ['RFM', 'RMF', 'LBG', 'LB', 'LS', 'RAB', 'LAB', 'OB', 'SLA', 'RAB','RSM','LSM']\n",
    "df=bowl_style_clean(df_org,unique_styles)\n",
    "df['bowl_style'].unique()"
   ]
  },
  {
   "cell_type": "code",
   "execution_count": null,
   "id": "8e7a655c",
   "metadata": {},
   "outputs": [],
   "source": [
    "df_worldcup = pd.read_csv('docs/2024 wc squad.csv', encoding='latin1')\n",
    "df_worldcup.head()"
   ]
  },
  {
   "cell_type": "code",
   "execution_count": null,
   "id": "146b27f6",
   "metadata": {},
   "outputs": [],
   "source": [
    "team_dict = df_worldcup.to_dict(orient='list')\n",
    "\n",
    "print(team_dict['Afghanistan'])"
   ]
  },
  {
   "cell_type": "code",
   "execution_count": null,
   "id": "a2a211b7",
   "metadata": {
    "scrolled": true
   },
   "outputs": [],
   "source": [
    "team_dict = {key.strip(): [value.strip() for value in values if pd.notna(value)] for key, values in team_dict.items()}\n",
    "\n",
    "team_dict['Afghanistan']"
   ]
  },
  {
   "cell_type": "code",
   "execution_count": null,
   "id": "b7bfbabb",
   "metadata": {},
   "outputs": [],
   "source": [
    "players_list = np.concatenate((df['bowl'].unique(), df['bat'].unique()))\n",
    "for team,players in team_dict.items():\n",
    "    for player in players:\n",
    "        if ((player not in players_list)|(player not in players_list)):\n",
    "            print(team,player)"
   ]
  },
  {
   "cell_type": "code",
   "execution_count": null,
   "id": "aaf51b3f",
   "metadata": {},
   "outputs": [],
   "source": [
    "players=set()\n",
    "for key,vals in team_dict.items():\n",
    "    players.update(vals)"
   ]
  },
  {
   "cell_type": "code",
   "execution_count": null,
   "id": "c45f83e7",
   "metadata": {},
   "outputs": [],
   "source": [
    "matches_relevant=df[df['bat'].isin(players) | df['bowl'].isin(players)]['p_match'].unique()\n",
    "df=df[df['p_match'].isin(matches_relevant)]"
   ]
  },
  {
   "cell_type": "code",
   "execution_count": null,
   "id": "41d037fb",
   "metadata": {},
   "outputs": [],
   "source": [
    "df_player_id_combs=df[['bat','p_bat','bowl','p_bowl']].drop_duplicates()"
   ]
  },
  {
   "cell_type": "code",
   "execution_count": null,
   "id": "4af3f8ef",
   "metadata": {},
   "outputs": [],
   "source": [
    "# Create a mapping of player names to player IDs\n",
    "player_id_map = {}\n",
    "for index, row in df_player_id_combs.iterrows():\n",
    "    if row['bat'] in player_id_map:\n",
    "        continue\n",
    "    player_id_map[row['bat']] = row['p_bat']\n",
    "    player_id_map[row['bowl']] = row['p_bowl']\n",
    "# Initialize lists to store data\n",
    "player_names = []\n",
    "countries = []\n",
    "player_ids = []\n",
    "\n",
    "# Iterate over the dictionary\n",
    "for country, players in team_dict.items():\n",
    "    for player in players:\n",
    "        player_names.append(player)\n",
    "        countries.append(country)\n",
    "        player_ids.append(player_id_map.get(player, None))\n",
    "\n",
    "# Create DataFrame from lists\n",
    "team_df = pd.DataFrame({'Player': player_names, 'Country': countries, 'p_id': player_ids})\n",
    "team_df['p_id'] = team_df['p_id'].astype('Int64')\n",
    "team_df.head()"
   ]
  },
  {
   "cell_type": "code",
   "execution_count": null,
   "id": "363b0aa9",
   "metadata": {},
   "outputs": [],
   "source": [
    "worldcup_pitches=['Kensington Oval, Bridgetown, Barbados',\n",
    "                  'Sir Vivian Richards Stadium, North Sound, Antigua',\n",
    "                  'Providence Stadium, Guyana',\n",
    "                  'Daren Sammy National Cricket Stadium, Gros Islet, St Lucia',\n",
    "                  'Brian Lara Stadium, Tarouba, Trinidad',\n",
    "                  'Arnos Vale Ground, Kingstown, St Vincent',\n",
    "                  'Central Broward Regional Park Stadium Turf Ground, Lauderhill',\n",
    "                  'Nassau County International Cricket Stadium',\n",
    "                  'Grand Prairie Stadium'\n",
    "                 ]"
   ]
  },
  {
   "cell_type": "code",
   "execution_count": null,
   "id": "b7749ac8",
   "metadata": {},
   "outputs": [],
   "source": [
    "df.columns"
   ]
  },
  {
   "cell_type": "code",
   "execution_count": null,
   "id": "06bff7a8",
   "metadata": {},
   "outputs": [],
   "source": [
    "def custom_agg(x):\n",
    "    result = (x['batruns'].sum() * 120) / x['ballfaced'].sum()\n",
    "    return round(result, 2)\n",
    "def get_ground_avgscores(df):\n",
    "    df1=df[df['ground'].isin(worldcup_pitches)].groupby(['p_match', 'inns','ground']).agg({'batruns':'sum','ballfaced':'sum'}).reset_index()\n",
    "    # Define custom aggregation function\n",
    "    # Group by 'inns' and 'ground', and aggregate using custom aggregation function\n",
    "    result_df = df1.groupby(['ground']).apply(custom_agg).reset_index(name='average_score')\n",
    "\n",
    "    return result_df\n",
    "df_groundavg=get_ground_avgscores(df)\n",
    "df_groundavg"
   ]
  },
  {
   "cell_type": "code",
   "execution_count": null,
   "id": "006f48db",
   "metadata": {},
   "outputs": [],
   "source": [
    "# Create a dictionary for ground indexes\n",
    "ground_index = {ground: f'G{i}' for i, ground in enumerate(df_groundavg['ground'].unique(), 1)}\n",
    "\n",
    "# Add the index to the dataframe\n",
    "df_groundavg['ground_index'] = df_groundavg['ground'].map(ground_index)\n",
    "\n",
    "plt.figure(figsize=(14, 8))\n",
    "\n",
    "# Create the bar plot\n",
    "ax = sns.barplot(x='ground_index', y='average_score', data=df_groundavg, palette='viridis')\n",
    "\n",
    "# Annotate bars with ground names outside and scores inside\n",
    "for p, label in zip(ax.patches, df_groundavg['ground']):\n",
    "    height = p.get_height()\n",
    "    ax.annotate(format(height, '.2f'), \n",
    "                (p.get_x() + p.get_width() / 2., height), \n",
    "                ha = 'center', va = 'center', \n",
    "                xytext = (8, -15), \n",
    "                textcoords = 'offset points', color='white')\n",
    "    \n",
    "    ax.annotate(label, \n",
    "                (p.get_x() + p.get_width() / 2., 5), \n",
    "                ha = 'center', va = 'bottom', \n",
    "                fontsize=9, rotation=90, color='white')\n",
    "\n",
    "# Title and labels\n",
    "plt.title('Average Scores by Ground')\n",
    "plt.xlabel('Grounds')\n",
    "plt.ylabel('Average Score')\n",
    "\n",
    "# # Create the legend for ground names\n",
    "# handles, labels = plt.gca().get_legend_handles_labels()\n",
    "# plt.legend(handles, ['Innings 1', 'Innings 2'], title='Innings')\n",
    "\n",
    "plt.show()"
   ]
  },
  {
   "cell_type": "code",
   "execution_count": null,
   "id": "d11b9b72",
   "metadata": {},
   "outputs": [],
   "source": [
    "df_groundavg.to_csv('docs/WC Analysis results/scoreavg_ground.csv')"
   ]
  },
  {
   "cell_type": "code",
   "execution_count": null,
   "id": "9c8ed917",
   "metadata": {},
   "outputs": [],
   "source": [
    "def get_ground_batstats_vs_bowlkind(df):\n",
    "    df2=df[(df['ground'].isin(worldcup_pitches))&(df['bowl_kind'].isin(['pace bowler','spin bowler']))]\n",
    "    df2_runs=df2.groupby(['ground','bowl_kind']).agg({'batruns':'sum','ballfaced':'sum','p_match':'nunique'}).reset_index()\n",
    "    df2_outs=df[(df['out']==True)&(df['ground'].isin(worldcup_pitches))&(df['bowl_kind'].isin(['pace bowler','spin bowler']))].groupby(['ground','bowl_kind']).size().reset_index(name='outs')\n",
    "    df2_batting=pd.merge(df2_runs,df2_outs,on=['ground','bowl_kind'])\n",
    "    df2_batting['average']=round(df2_batting['batruns']/df2_batting['outs'],2)\n",
    "    df2_batting['strike rate']=round(df2_batting['batruns']*100/df2_batting['ballfaced'],2)\n",
    "    df2_batting.drop(columns=['batruns','ballfaced','outs'],inplace=True)\n",
    "    df2_batting.rename(columns={'p_match':'matches'},inplace=True)\n",
    "    return df2_batting\n",
    "df2_batting=get_ground_batstats_vs_bowlkind(df)\n",
    "df2_batting.head()"
   ]
  },
  {
   "cell_type": "code",
   "execution_count": null,
   "id": "65d9b2ef",
   "metadata": {
    "scrolled": false
   },
   "outputs": [],
   "source": [
    "ground_index = {ground: f'G{i}' for i, ground in enumerate(df2_batting['ground'].unique(), 1)}\n",
    "\n",
    "# Add the index to the dataframe\n",
    "df2_batting['ground_index'] = df2_batting['ground'].map(ground_index)\n",
    "\n",
    "plt.figure(figsize=(14, 8))\n",
    "\n",
    "# Create the bar plot\n",
    "ax = sns.barplot(x='ground_index', y='strike rate', hue='bowl_kind', data=df2_batting, palette='viridis')\n",
    "\n",
    "# Annotate bars with ground names outside and scores inside\n",
    "for p, label in zip(ax.patches, df2_batting['ground']):\n",
    "    height = p.get_height()\n",
    "    ax.annotate(format(height, '.2f'), \n",
    "                (p.get_x() + p.get_width() / 2., height), \n",
    "                ha = 'center', va = 'center', \n",
    "                xytext = (0, -10), \n",
    "                textcoords = 'offset points', color='white')\n",
    "    \n",
    "    ax.annotate(label, \n",
    "                (p.get_x() + p.get_width() / 2., 5), \n",
    "                ha = 'center', va = 'bottom', \n",
    "                fontsize=9, rotation=90, color='white')\n",
    "\n",
    "# Title and labels\n",
    "plt.title('Average Strike Rate by Ground and Bowling Kinds')\n",
    "plt.xlabel('Grounds')\n",
    "plt.ylabel('Batting Strike rate')\n",
    "\n",
    "# Create the legend for ground names\n",
    "handles, labels = plt.gca().get_legend_handles_labels()\n",
    "plt.legend(handles, ['Pace bowling', 'Spin Bowling'], title='Bowling Kind')\n",
    "\n",
    "plt.show()"
   ]
  },
  {
   "cell_type": "code",
   "execution_count": null,
   "id": "abf16a33",
   "metadata": {},
   "outputs": [],
   "source": [
    "df2_batting.to_csv(\"docs/WC Analysis results/batting_bowlkind_by_ground.csv\")"
   ]
  },
  {
   "cell_type": "code",
   "execution_count": null,
   "id": "252eacf9",
   "metadata": {},
   "outputs": [],
   "source": [
    "def get_battingstats(df):\n",
    "    df3=pd.merge(df[df['bat'].isin(team_df[team_df['p_id'].isna()==False]['Player'])],team_df[team_df['p_id'].isna()==False],left_on='p_bat',right_on='p_id',how='inner')\n",
    "    df3_bat=df3.groupby(['Country']).agg({'batruns':'sum','ballfaced':'sum','p_match':'nunique'}).reset_index()\n",
    "    df3_outs=df3[df3['out']==True].groupby(['Country']).size().reset_index(name='outs')\n",
    "    df3_bat_stats=pd.merge(df3_bat,df3_outs,on='Country')\n",
    "    df3_bat_stats['bat_avg']=round(df3_bat_stats['batruns']/df3_bat_stats['outs'],2)\n",
    "    df3_bat_stats['bat_sr']=round(df3_bat_stats['batruns']*100/df3_bat_stats['ballfaced'],2)\n",
    "    df3_dots=df3[(df3['bowlruns']==0) & (df3['ballfaced']==1)].groupby(['Country']).agg({'ballfaced':'sum'}).reset_index()\n",
    "    df3_dots.rename(columns={'ballfaced':'dotballs'},inplace=True)\n",
    "    df3_bat_stats=pd.merge(df3_bat_stats,df3_dots,on=\"Country\")\n",
    "    df3_bat_stats['dot%']=(df3_bat_stats['dotballs']*100/df3_bat_stats['ballfaced']).round(2)\n",
    "    def custom_agg(x):\n",
    "        boundary_runs = x['batruns'].sum()\n",
    "        return boundary_runs\n",
    "    # Apply the custom aggregation function and reset index\n",
    "    df3_bd = df3[((df3['batruns'] == 4) | (df3['batruns'] == 6)) & (df3['ballfaced'] == 1)] \\\n",
    "                .groupby(['Country']).apply(custom_agg).reset_index(name='boundary_runs')\n",
    "    df3_bat_stats=pd.merge(df3_bat_stats,df3_bd,on=\"Country\")\n",
    "    df3_bat_stats['boundary%']=(df3_bat_stats['boundary_runs']*100/df3_bat_stats['batruns']).round(2)\n",
    "    df3_bat_stats.drop(columns=['batruns', 'ballfaced', 'dotballs','boundary_runs','outs'],inplace=True)\n",
    "    df3_bat_stats.rename(columns={'p_match':'matches_batted'},inplace=True)\n",
    "    return df3_bat_stats\n",
    "df3_bat_stats=get_battingstats(df)\n",
    "df3_bat_stats.head()"
   ]
  },
  {
   "cell_type": "code",
   "execution_count": null,
   "id": "c7eb162f",
   "metadata": {},
   "outputs": [],
   "source": [
    "def get_bowling_stats(df):\n",
    "    df4=pd.merge(df[df['bowl'].isin(team_df[team_df['p_id'].isna()==False]['Player'])],team_df[team_df['p_id'].isna()==False],left_on='p_bowl',right_on='p_id',how='inner')\n",
    "    df4_bowl=df4.groupby(['Country']).agg({'bowlruns':'sum','ballfaced':'sum','p_match':'nunique'}).reset_index()\n",
    "    df4_bowl['economy']=(df4_bowl['bowlruns']*6/df4_bowl['ballfaced']).round(2)\n",
    "    df4_outs=df4[df4['out']==True].groupby(['Country']).size().reset_index(name='outs')\n",
    "    df4_bowl_stats=pd.merge(df4_bowl,df4_outs,on='Country')\n",
    "    df4_bowl_stats['bowl_avg']=round(df4_bowl_stats['bowlruns']/df4_bowl_stats['outs'],2)\n",
    "    df4_bowl_stats['bowl_sr']=round(df4_bowl_stats['ballfaced']/df4_bowl_stats['outs'],2)\n",
    "    df4_bowl_stats.drop(columns=['bowlruns','ballfaced','outs'],inplace=True)\n",
    "    df4_bowl_stats.rename(columns={'p_match':'matches_bowled'},inplace=True)\n",
    "    return df4_bowl_stats\n",
    "df4_bowl_stats=get_bowling_stats(df)\n",
    "df4_bowl_stats.head()"
   ]
  },
  {
   "cell_type": "code",
   "execution_count": null,
   "id": "618184de",
   "metadata": {},
   "outputs": [],
   "source": [
    "overall_team_stats1=pd.merge(df3_bat_stats,df4_bowl_stats,on='Country').sort_values('matches_batted',ascending=False).reset_index().drop(columns='index').head(10)\n",
    "overall_team_stats1.set_index('Country', inplace=True)\n",
    "\n",
    "overall_team_stats2=pd.merge(df3_bat_stats,df4_bowl_stats,on='Country').sort_values('matches_batted',ascending=False).reset_index().drop(columns='index').tail(9)\n",
    "overall_team_stats2.set_index('Country', inplace=True)"
   ]
  },
  {
   "cell_type": "code",
   "execution_count": null,
   "id": "d857eb30",
   "metadata": {},
   "outputs": [],
   "source": [
    "overall_team_stats1"
   ]
  },
  {
   "cell_type": "code",
   "execution_count": null,
   "id": "ea83228c",
   "metadata": {},
   "outputs": [],
   "source": [
    "overall_team_stats2"
   ]
  },
  {
   "cell_type": "code",
   "execution_count": null,
   "id": "eff5adfa",
   "metadata": {},
   "outputs": [],
   "source": [
    "overall_team_stats1.drop(columns=['matches_batted','matches_bowled'],inplace=True)\n",
    "overall_team_stats2.drop(columns=['matches_batted','matches_bowled'],inplace=True)"
   ]
  },
  {
   "cell_type": "code",
   "execution_count": null,
   "id": "1decff2a",
   "metadata": {
    "scrolled": true
   },
   "outputs": [],
   "source": [
    "overall_team_stats=pd.concat([overall_team_stats1,overall_team_stats2],ignore_index=False)\n",
    "overall_team_stats.to_csv(\"docs/WC Analysis results/overall_team_stats.csv\")"
   ]
  },
  {
   "cell_type": "code",
   "execution_count": null,
   "id": "866cd66c",
   "metadata": {},
   "outputs": [],
   "source": [
    "cols_increase=['bat_avg','bat_sr','boundary%']\n",
    "cols_decrease=['dot%','economy','bowl_avg','bowl_sr']\n",
    "def normalization(cols_increase, cols_decrease, overall_team_stats):\n",
    "    # Create an empty DataFrame for normalized values\n",
    "    normalized_df = pd.DataFrame(index=overall_team_stats.index)\n",
    "    \n",
    "    # Normalize columns where an increase is favorable\n",
    "    for col in cols_increase:\n",
    "        mean = overall_team_stats[col].mean()\n",
    "        std = overall_team_stats[col].std()\n",
    "        normalized_df[col] = (overall_team_stats[col] - mean) / std\n",
    "\n",
    "    # Normalize columns where a decrease is favorable\n",
    "    for col in cols_decrease:\n",
    "        mean = overall_team_stats[col].mean()\n",
    "        std = overall_team_stats[col].std()\n",
    "        normalized_df[col] = (mean - overall_team_stats[col]) / std\n",
    "    \n",
    "    # Rank the teams based on normalized values\n",
    "    ranked_df = normalized_df.rank(axis=0, method='min', ascending=False).astype(int)\n",
    "    \n",
    "    # Calculate the overall rank as the mean of individual ranks\n",
    "    ranked_df['overallrank'] = ranked_df.mean(axis=1).rank(method='min', ascending=True).astype(int)\n",
    "    \n",
    "    # Sort the DataFrame based on the overall rank\n",
    "    ranked_df = ranked_df.sort_values(by='overallrank')\n",
    "    \n",
    "    return normalized_df, ranked_df\n",
    "normalized_df1,ranked_df1=normalization(cols_increase,cols_decrease,overall_team_stats1)\n",
    "normalized_df2,ranked_df2=normalization(cols_increase,cols_decrease,overall_team_stats2)\n",
    "normalized_df1.head()"
   ]
  },
  {
   "cell_type": "code",
   "execution_count": null,
   "id": "c5ba41e8",
   "metadata": {},
   "outputs": [],
   "source": [
    "ranked_df1.head()"
   ]
  },
  {
   "cell_type": "code",
   "execution_count": null,
   "id": "c8b8ab87",
   "metadata": {},
   "outputs": [],
   "source": [
    "ranked_df2.head()"
   ]
  },
  {
   "cell_type": "code",
   "execution_count": null,
   "id": "ce579ed0",
   "metadata": {},
   "outputs": [],
   "source": [
    "normalized_df1=normalized_df1.reindex(ranked_df1.index)\n",
    "\n",
    "plt.figure(figsize=(12, 8))\n",
    "sns.heatmap(normalized_df1, annot=ranked_df1.drop(columns='overallrank'), fmt='d', cmap='RdYlGn', linewidths=.5, center=0)\n",
    "\n",
    "# Title and labels\n",
    "plt.title('Overall Team Stats Heatmap (Ranked)')\n",
    "plt.xlabel('Statistics')\n",
    "plt.ylabel('Country')\n",
    "\n",
    "# Show the plot\n",
    "plt.show()"
   ]
  },
  {
   "cell_type": "code",
   "execution_count": null,
   "id": "6ee76e50",
   "metadata": {},
   "outputs": [],
   "source": [
    "df_bat_pp=get_battingstats((df[df['over']<=5]))\n",
    "df_bat_mid=get_battingstats(df[(df['over']>=6)&(df['over']<=14)])\n",
    "df_bat_death=get_battingstats(df[(df['over']>=15)])\n",
    "df_bowl_pp=get_bowling_stats(df[df['over']<=5])\n",
    "df_bowl_mid=get_bowling_stats(df[(df['over']>=6)&(df['over']<=14)])\n",
    "df_bowl_death=get_bowling_stats(df[(df['over']>=15)])"
   ]
  },
  {
   "cell_type": "code",
   "execution_count": null,
   "id": "33dc0d22",
   "metadata": {},
   "outputs": [],
   "source": [
    "df.columns"
   ]
  },
  {
   "cell_type": "code",
   "execution_count": null,
   "id": "5d27f3be",
   "metadata": {
    "scrolled": false
   },
   "outputs": [],
   "source": [
    "#df=overall_team_stats\n",
    "# Normalize the data\n",
    "normalized_df = (overall_team_stats1 - overall_team_stats1.min()) / (overall_team_stats1.max() - overall_team_stats1.min())\n",
    "\n",
    "# Calculate the average values for normalized data\n",
    "averages = normalized_df.mean()\n",
    "\n",
    "# Plot\n",
    "attributes = overall_team_stats1.columns\n",
    "num_vars = len(attributes)\n",
    "angles = np.linspace(0, 2 * np.pi, num_vars, endpoint=False).tolist()\n",
    "angles += angles[:1]  # Complete the loop\n",
    "\n",
    "fig, ax = plt.subplots(figsize=(10, 10), subplot_kw=dict(polar=True))\n",
    "ax.set_theta_offset(np.pi / 2)\n",
    "ax.set_theta_direction(-1)\n",
    "\n",
    "# Draw one axe per variable and add labels\n",
    "plt.xticks(angles[:-1], attributes)\n",
    "\n",
    "# Plot each individual country\n",
    "for country in normalized_df.index:\n",
    "    values = normalized_df.loc[country].tolist()\n",
    "    values += values[:1]\n",
    "    ax.plot(angles, values, linewidth=1, linestyle='solid', label=country)\n",
    "    ax.fill(angles, values, alpha=0.1)\n",
    "\n",
    "# Plot the average values\n",
    "average_values = averages.tolist()\n",
    "average_values += average_values[:1]\n",
    "ax.plot(angles, average_values, linewidth=2, linestyle='dotted', label='Average', color='blue')\n",
    "\n",
    "# Fill area for the average values\n",
    "ax.fill(angles, average_values, 'b', alpha=0.1)\n",
    "\n",
    "# Add a legend\n",
    "plt.legend(loc='upper right', bbox_to_anchor=(1.1, 1.1))\n",
    "\n",
    "# Show the plot\n",
    "plt.show()"
   ]
  },
  {
   "cell_type": "code",
   "execution_count": null,
   "id": "7f8a04bf",
   "metadata": {
    "scrolled": true
   },
   "outputs": [],
   "source": [
    "def spider_plot_stats(normalized_df,country):\n",
    "\n",
    "    # Calculate the average values for normalized data\n",
    "    averages = normalized_df.mean()\n",
    "\n",
    "    # Plot\n",
    "    attributes = normalized_df.columns\n",
    "    num_vars = len(attributes)\n",
    "    angles = np.linspace(0, 2 * np.pi, num_vars, endpoint=False).tolist()\n",
    "    angles += angles[:1]  # Complete the loop\n",
    "\n",
    "    fig, ax = plt.subplots(figsize=(7,7), subplot_kw=dict(polar=True))\n",
    "    ax.set_theta_offset(np.pi / 2)\n",
    "    ax.set_theta_direction(-1)\n",
    "\n",
    "    # Draw one axe per variable and add labels\n",
    "    plt.xticks(angles[:-1], attributes)\n",
    "\n",
    "    # Plot each individual country\n",
    "    #for country in normalized_df.index:\n",
    "    values = normalized_df.loc[country].tolist()\n",
    "    values += values[:1]\n",
    "    ax.plot(angles, values, linewidth=1, linestyle='solid', label=country)\n",
    "    ax.fill(angles, values, alpha=0.1)\n",
    "\n",
    "    # Plot the average values\n",
    "    average_values = averages.tolist()\n",
    "    average_values += average_values[:1]\n",
    "    ax.plot(angles, average_values, linewidth=2, linestyle='dotted', label='Average', color='blue')\n",
    "\n",
    "    # Fill area for the average values\n",
    "    ax.fill(angles, average_values, 'b', alpha=0.1)\n",
    "\n",
    "    # Add a legend\n",
    "    plt.legend(loc='upper right', bbox_to_anchor=(1.1, 1.1))\n",
    "\n",
    "    # Show the plot\n",
    "    plt.show()\n"
   ]
  },
  {
   "cell_type": "code",
   "execution_count": null,
   "id": "74793064",
   "metadata": {
    "scrolled": true
   },
   "outputs": [],
   "source": [
    "normalized_df,_=normalization(['bat_avg','bat_sr','boundary%'],['dot%','economy','bowl_avg','bowl_sr'],overall_team_stats1)\n",
    "for country in normalized_df.index:\n",
    "    spider_plot_stats(normalized_df,country)"
   ]
  },
  {
   "cell_type": "code",
   "execution_count": null,
   "id": "8a7c4104",
   "metadata": {},
   "outputs": [],
   "source": [
    "df_bat_pp['Phase'] = 'pp'\n",
    "df_bat_mid['Phase'] = 'mid'\n",
    "df_bat_death['Phase'] = 'death'\n",
    "df_bowl_pp['Phase'] = 'pp'\n",
    "df_bowl_mid['Phase'] = 'mid'\n",
    "df_bowl_death['Phase'] = 'death'"
   ]
  },
  {
   "cell_type": "code",
   "execution_count": null,
   "id": "bc6cad69",
   "metadata": {},
   "outputs": [],
   "source": [
    "# Function to normalize and calculate the 'bowl' column\n",
    "def normalize_and_calculate_bowl(df):\n",
    "    df_norm, _ = normalization([], ['economy', 'bowl_avg'], df[['economy', 'bowl_avg']])\n",
    "    for col in df_norm.columns:\n",
    "        df.loc[:, col] = df_norm[col]\n",
    "    df['bowl'] = round(0.5 * df['economy'] + 0.5 * df['bowl_avg'], 2)\n",
    "    df.drop(columns=['economy', 'bowl_avg'], inplace=True)\n",
    "    return df\n",
    "\n",
    "# Function to normalize and calculate the 'bat' column\n",
    "def normalize_and_calculate_bat(df):\n",
    "    df_norm, _ = normalization(['bat_avg', 'bat_sr'], [], df[['bat_avg', 'bat_sr']])\n",
    "    for col in df_norm.columns:\n",
    "        df.loc[:, col] = df_norm[col]\n",
    "    df['bat'] = round(0.5 * df['bat_avg'] + 0.5 * df['bat_sr'], 2)\n",
    "    df.drop(columns=['bat_avg', 'bat_sr'], inplace=True)\n",
    "    return df\n",
    "\n",
    "# Function to separate, normalize, and calculate phases for given dataframes\n",
    "def process_phases(df, team_stats1, team_stats2, normalize_func):\n",
    "    df1 = df[df['Country'].isin(team_stats1.index)].copy()\n",
    "    df2 = df[df['Country'].isin(team_stats2.index)].copy()\n",
    "\n",
    "    df1 = normalize_func(df1)\n",
    "    df2 = normalize_func(df2)\n",
    "    \n",
    "    return df1, df2\n",
    "\n",
    "# Concatenate the bowling data and drop unnecessary columns\n",
    "df_phases_bowl = pd.concat([df_bowl_pp, df_bowl_mid, df_bowl_death], ignore_index=True)\n",
    "df_phases_bowl.drop(columns=['matches_bowled', 'bowl_sr'], inplace=True)\n",
    "\n",
    "# Process bowling phases\n",
    "df_phases_bowl1, df_phases_bowl2 = process_phases(df_phases_bowl, overall_team_stats1, overall_team_stats2, normalize_and_calculate_bowl)\n",
    "\n",
    "# Concatenate the batting data and drop unnecessary columns\n",
    "df_phases_bat = pd.concat([df_bat_pp, df_bat_mid, df_bat_death], ignore_index=True)\n",
    "df_phases_bat.drop(columns=['matches_batted', 'dot%', 'boundary%'], inplace=True)\n",
    "\n",
    "# Process batting phases\n",
    "df_phases_bat1, df_phases_bat2 = process_phases(df_phases_bat, overall_team_stats1, overall_team_stats2, normalize_and_calculate_bat)\n",
    "\n",
    "# Display the first few rows of the processed dataframes\n",
    "print(df_phases_bowl2.head())\n",
    "print(df_phases_bat1.head())"
   ]
  },
  {
   "cell_type": "code",
   "execution_count": null,
   "id": "c33de44c",
   "metadata": {},
   "outputs": [],
   "source": [
    "# Initialize final DataFrames\n",
    "df_phases1 = pd.DataFrame(columns=['Country', 'batting_pp', 'bowling_pp', 'batting_mid', 'bowling_mid', 'batting_death', 'bowling_death'])\n",
    "df_phases2 = pd.DataFrame(columns=['Country', 'batting_pp', 'bowling_pp', 'batting_mid', 'bowling_mid', 'batting_death', 'bowling_death'])\n",
    "\n",
    "# Assign unique countries\n",
    "df_phases1['Country'] = df_phases_bowl1['Country'].unique()\n",
    "df_phases2['Country'] = df_phases_bowl2['Country'].unique()\n",
    "\n",
    "# Function to map phase data\n",
    "def map_phase_data(df_phases, df_bat, df_bowl, phase):\n",
    "    bat_phase = df_bat[df_bat['Phase'] == phase].set_index('Country')['bat']\n",
    "    bowl_phase = df_bowl[df_bowl['Phase'] == phase].set_index('Country')['bowl']\n",
    "    df_phases[f'batting_{phase}'] = df_phases['Country'].map(bat_phase)\n",
    "    df_phases[f'bowling_{phase}'] = df_phases['Country'].map(bowl_phase)\n",
    "\n",
    "# Map phases for both DataFrames\n",
    "for phase in ['pp', 'mid', 'death']:\n",
    "    map_phase_data(df_phases1, df_phases_bat1, df_phases_bowl1, phase)\n",
    "    map_phase_data(df_phases2, df_phases_bat2, df_phases_bowl2, phase)\n",
    "\n",
    "# Calculate overall score\n",
    "df_phases1['overall'] = round(df_phases1.drop(columns=['Country']).mean(axis=1), 2)\n",
    "df_phases2['overall'] = round(df_phases2.drop(columns=['Country']).mean(axis=1), 2)\n",
    "\n",
    "# Reorder columns\n",
    "desired_order = ['Country', 'overall', 'batting_pp', 'batting_mid', 'batting_death', 'bowling_pp', 'bowling_mid', 'bowling_death']\n",
    "df_phases1 = df_phases1[desired_order]\n",
    "df_phases2 = df_phases2[desired_order]\n",
    "\n",
    "# Set 'Country' as the index and reorder according to ranked_df\n",
    "df_phases1.set_index('Country', inplace=True)\n",
    "df_phases1 = df_phases1.reindex(ranked_df.index)\n",
    "\n",
    "df_phases2.set_index('Country', inplace=True)\n",
    "\n",
    "# Display the first few rows of df_phases2\n",
    "df_phases2.head()"
   ]
  },
  {
   "cell_type": "code",
   "execution_count": null,
   "id": "bf5dd01a",
   "metadata": {},
   "outputs": [],
   "source": [
    "df_phases2.to_csv(\"docs/WC Analysis results/phases_bottom10.csv\")\n",
    "df_phases1.to_csv(\"docs/WC Analysis results/phases_top10.csv\")"
   ]
  },
  {
   "cell_type": "code",
   "execution_count": null,
   "id": "a0c818ed",
   "metadata": {
    "scrolled": false
   },
   "outputs": [],
   "source": [
    "for country in df_phases1.index:\n",
    "    spider_plot_stats(df_phases1,country)"
   ]
  },
  {
   "cell_type": "code",
   "execution_count": null,
   "id": "53243181",
   "metadata": {
    "scrolled": true
   },
   "outputs": [],
   "source": [
    "averages = df_phases1.mean()\n",
    "\n",
    "# Plot\n",
    "attributes = df_phases1.columns\n",
    "num_vars = len(attributes)\n",
    "angles = np.linspace(0, 2 * np.pi, num_vars, endpoint=False).tolist()\n",
    "angles += angles[:1]  # Complete the loop\n",
    "\n",
    "fig, ax = plt.subplots(figsize=(10, 10), subplot_kw=dict(polar=True))\n",
    "ax.set_theta_offset(np.pi / 2)\n",
    "ax.set_theta_direction(-1)\n",
    "\n",
    "# Draw one axe per variable and add labels\n",
    "plt.xticks(angles[:-1], attributes)\n",
    "\n",
    "# Plot each individual country\n",
    "for country in df_phases1.index:\n",
    "    values = df_phases1.loc[country].tolist()\n",
    "    values += values[:1]\n",
    "    ax.plot(angles, values, linewidth=1, linestyle='solid', label=country)\n",
    "    ax.fill(angles, values, alpha=0.1)\n",
    "\n",
    "# Plot the average values\n",
    "average_values = averages.tolist()\n",
    "average_values += average_values[:1]\n",
    "ax.plot(angles, average_values, linewidth=2, linestyle='dotted', label='Average', color='blue')\n",
    "\n",
    "# Fill area for the average values\n",
    "ax.fill(angles, average_values, 'b', alpha=0.1)\n",
    "\n",
    "# Add a legend\n",
    "plt.legend(loc='upper right', bbox_to_anchor=(1.1, 1.1))\n",
    "\n",
    "# Show the plot\n",
    "plt.show()"
   ]
  }
 ],
 "metadata": {
  "kernelspec": {
   "display_name": "Python 3 (ipykernel)",
   "language": "python",
   "name": "python3"
  },
  "language_info": {
   "codemirror_mode": {
    "name": "ipython",
    "version": 3
   },
   "file_extension": ".py",
   "mimetype": "text/x-python",
   "name": "python",
   "nbconvert_exporter": "python",
   "pygments_lexer": "ipython3",
   "version": "3.11.4"
  }
 },
 "nbformat": 4,
 "nbformat_minor": 5
}
