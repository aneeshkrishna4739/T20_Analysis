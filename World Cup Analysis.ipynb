{
 "cells": [
  {
   "cell_type": "code",
   "execution_count": 37,
   "id": "0e601764",
   "metadata": {},
   "outputs": [],
   "source": [
    "import pandas as pd\n",
    "import numpy as np\n",
    "import os\n",
    "import seaborn as sns\n",
    "import matplotlib.pyplot as plt"
   ]
  },
  {
   "cell_type": "code",
   "execution_count": 38,
   "id": "89d53f35",
   "metadata": {},
   "outputs": [
    {
     "name": "stderr",
     "output_type": "stream",
     "text": [
      "C:\\Users\\anees\\AppData\\Local\\Temp\\ipykernel_26580\\3596150139.py:1: DtypeWarning: Columns (54,55,56) have mixed types. Specify dtype option on import or set low_memory=False.\n",
      "  df_org = pd.read_csv('docs/t20s_2013-23_mgd.csv').drop(columns=['Unnamed: 0.1', 'Unnamed: 0'])\n"
     ]
    }
   ],
   "source": [
    "df_org = pd.read_csv('docs/t20s_2013-23_mgd.csv').drop(columns=['Unnamed: 0.1', 'Unnamed: 0'])"
   ]
  },
  {
   "cell_type": "code",
   "execution_count": 39,
   "id": "fc746f16",
   "metadata": {},
   "outputs": [],
   "source": [
    "df_org=df_org[(df_org['ball']<=11)]\n",
    "df_org=df_org.drop(columns='ball.1')\n",
    "df_org=df_org[(df_org['batruns']>=0) & (df_org['bowlruns']>=0)]"
   ]
  },
  {
   "cell_type": "code",
   "execution_count": 40,
   "id": "08970742",
   "metadata": {},
   "outputs": [
    {
     "data": {
      "text/plain": [
       "array(['RF', 'RFM', 'RWS', 'LWS', 'SLA', 'OB', 'LFM', 'LF', 'RM', 'RM/OB',\n",
       "       'LM', 'LFM/SLA', 'OB/RWS', 'LM/SLA/LWS', 'OB/SLA', 'RSM', '-',\n",
       "       'LSM', 'RFM/OB', 'RFM/RWS', 'RM/RWS', 'LFM/RM', 'RM/RSM',\n",
       "       'SLA/LWS', 'RM/OB/RWS', 'RS'], dtype=object)"
      ]
     },
     "execution_count": 40,
     "metadata": {},
     "output_type": "execute_result"
    }
   ],
   "source": [
    "def bowl_style_clean(df,unique_styles):\n",
    "\n",
    "    df['bowl_style'] = df['bowl_style'].replace(['RFM', 'RMF'], 'RFM')\n",
    "    df['bowl_style'] = df['bowl_style'].replace(['LFM', 'LMF'], 'LFM')\n",
    "    df['bowl_style'] = df['bowl_style'].replace(['LBG', 'LB'], 'RWS')\n",
    "    df['bowl_style'] = df['bowl_style'].replace(['LS', 'SLA'], 'SLA')\n",
    "    df['bowl_style'] = df['bowl_style'].replace(['RAB'], 'RSM')\n",
    "    df['bowl_style'] = df['bowl_style'].replace(['LAB'], 'LSM')\n",
    "    unique_styles = ['LFM/SLA', 'OB/LB','LM/SLA/LWS','OB/SLA','RMF/OB', 'RFM/OB', 'OB/LBG', 'RFM/LBG', 'RM/LB',\n",
    "           'RM/LBG', 'LMF/RM', 'RM/RSM', 'SLA/LWS', 'RMF/LB', 'RFM/LB',\n",
    "           'RM/OB/LB']\n",
    "    replacements = {\n",
    "        'RFM': 'RFM',\n",
    "        'RMF': 'RFM',\n",
    "        'LFM': 'LFM',\n",
    "        'LMF': 'LFM',\n",
    "        'LBG': 'RWS',\n",
    "        'LB': 'RWS',\n",
    "        'LS': 'SLA',\n",
    "        'SLA': 'SLA',\n",
    "        'RAB': 'RS',\n",
    "        'LAB': 'LS'\n",
    "    }\n",
    "\n",
    "    # Iterate over unique styles and apply replacements\n",
    "    for style in unique_styles:\n",
    "        replaced_style = '/'.join([replacements.get(part, part) for part in style.split('/')])\n",
    "        df['bowl_style'] = df['bowl_style'].replace([style], replaced_style)\n",
    "    #df['bowl_style'].unique()\n",
    "    return df\n",
    "unique_styles = ['RFM', 'RMF', 'LBG', 'LB', 'LS', 'RAB', 'LAB', 'OB', 'SLA', 'RAB','RSM','LSM']\n",
    "df=bowl_style_clean(df_org,unique_styles)\n",
    "df['bowl_style'].unique()"
   ]
  },
  {
   "cell_type": "code",
   "execution_count": 41,
   "id": "8e7a655c",
   "metadata": {},
   "outputs": [
    {
     "data": {
      "text/html": [
       "<div>\n",
       "<style scoped>\n",
       "    .dataframe tbody tr th:only-of-type {\n",
       "        vertical-align: middle;\n",
       "    }\n",
       "\n",
       "    .dataframe tbody tr th {\n",
       "        vertical-align: top;\n",
       "    }\n",
       "\n",
       "    .dataframe thead th {\n",
       "        text-align: right;\n",
       "    }\n",
       "</style>\n",
       "<table border=\"1\" class=\"dataframe\">\n",
       "  <thead>\n",
       "    <tr style=\"text-align: right;\">\n",
       "      <th></th>\n",
       "      <th>Afghanistan</th>\n",
       "      <th>Australia</th>\n",
       "      <th>Bangladesh</th>\n",
       "      <th>Canada</th>\n",
       "      <th>England</th>\n",
       "      <th>India</th>\n",
       "      <th>Ireland</th>\n",
       "      <th>Namibia</th>\n",
       "      <th>Nepal</th>\n",
       "      <th>Netherlands</th>\n",
       "      <th>New Zealand</th>\n",
       "      <th>Oman</th>\n",
       "      <th>Papua New Guinea</th>\n",
       "      <th>Scotland</th>\n",
       "      <th>South Africa</th>\n",
       "      <th>Sri Lanka</th>\n",
       "      <th>Uganda</th>\n",
       "      <th>United States</th>\n",
       "      <th>West Indies</th>\n",
       "      <th>Pakistan</th>\n",
       "    </tr>\n",
       "  </thead>\n",
       "  <tbody>\n",
       "    <tr>\n",
       "      <th>0</th>\n",
       "      <td>Rashid Khan</td>\n",
       "      <td>Mitchell Marsh</td>\n",
       "      <td>Najmul Hossain Shanto</td>\n",
       "      <td>Saad Bin Zafar</td>\n",
       "      <td>Jos Buttler</td>\n",
       "      <td>Rohit Sharma</td>\n",
       "      <td>Paul Stirling</td>\n",
       "      <td>Gerhard Erasmus</td>\n",
       "      <td>Rohit Paudel</td>\n",
       "      <td>Scott Edwards</td>\n",
       "      <td>Kane Williamson</td>\n",
       "      <td>Aqib Ilyas</td>\n",
       "      <td>Assad Vala</td>\n",
       "      <td>Richie Berrington</td>\n",
       "      <td>Aiden Markram</td>\n",
       "      <td>Wanindu Hasaranga</td>\n",
       "      <td>Brian Masaba</td>\n",
       "      <td>Monank Patel</td>\n",
       "      <td>Rovman Powell</td>\n",
       "      <td>NaN</td>\n",
       "    </tr>\n",
       "    <tr>\n",
       "      <th>1</th>\n",
       "      <td>Ibrahim Zadran</td>\n",
       "      <td>Ashton Agar</td>\n",
       "      <td>Taskin Ahmed</td>\n",
       "      <td>Aaron Johnson</td>\n",
       "      <td>Moeen Ali</td>\n",
       "      <td>Hardik Pandya</td>\n",
       "      <td>Mark Adair</td>\n",
       "      <td>Zane Green</td>\n",
       "      <td>Aasif Sheikh</td>\n",
       "      <td>Aryan Dutt</td>\n",
       "      <td>Finn Allen</td>\n",
       "      <td>Zeeshan Maqsood</td>\n",
       "      <td>Alei Nao</td>\n",
       "      <td>Matthew Cross</td>\n",
       "      <td>Ottniel Baartman</td>\n",
       "      <td>Charith Asalanka</td>\n",
       "      <td>Simon Ssesazi</td>\n",
       "      <td>Aaron Jones</td>\n",
       "      <td>Alzarri Joseph</td>\n",
       "      <td>NaN</td>\n",
       "    </tr>\n",
       "    <tr>\n",
       "      <th>2</th>\n",
       "      <td>Azmatullah Omarzai</td>\n",
       "      <td>Pat Cummins</td>\n",
       "      <td>Litton Das</td>\n",
       "      <td>Dillon Heyliger</td>\n",
       "      <td>Jofra Archer</td>\n",
       "      <td>Yashasvi Jaiswal</td>\n",
       "      <td>Ross Adair</td>\n",
       "      <td>Michael van Lingen</td>\n",
       "      <td>Anil Kumar Sah</td>\n",
       "      <td>Bas de Leede</td>\n",
       "      <td>Trent Boult</td>\n",
       "      <td>Kashyap Prajapati</td>\n",
       "      <td>Chad Soper</td>\n",
       "      <td>Bradley Currie</td>\n",
       "      <td>Gerald Coetzee</td>\n",
       "      <td>Kusal Mendis</td>\n",
       "      <td>Roger Mukasa</td>\n",
       "      <td>Andries Gous</td>\n",
       "      <td>Johnson Charles</td>\n",
       "      <td>NaN</td>\n",
       "    </tr>\n",
       "    <tr>\n",
       "      <th>3</th>\n",
       "      <td>Najibullah Zadran</td>\n",
       "      <td>Tim David</td>\n",
       "      <td>Soumya Sarkar</td>\n",
       "      <td>Dilpreet Bajwa</td>\n",
       "      <td>Jonny Bairstow</td>\n",
       "      <td>Virat Kohli</td>\n",
       "      <td>Andy Balbirnie</td>\n",
       "      <td>Dylan Leicher</td>\n",
       "      <td>Kushal Bhurtel</td>\n",
       "      <td>Daniel Doram</td>\n",
       "      <td>Michael Bracewell</td>\n",
       "      <td>Pratik Athavale</td>\n",
       "      <td>Charles Amini</td>\n",
       "      <td>Chris Greaves</td>\n",
       "      <td>Quinton de Kock</td>\n",
       "      <td>Pathum Nissanka</td>\n",
       "      <td>Cosmas Kyewuta</td>\n",
       "      <td>Corey Anderson</td>\n",
       "      <td>Roston Chase</td>\n",
       "      <td>NaN</td>\n",
       "    </tr>\n",
       "    <tr>\n",
       "      <th>4</th>\n",
       "      <td>Mohammad Ishaq</td>\n",
       "      <td>Nathan Ellis</td>\n",
       "      <td>Tanzid Hasan</td>\n",
       "      <td>Harsh Thaker</td>\n",
       "      <td>Harry Brook</td>\n",
       "      <td>Suryakumar Yadav</td>\n",
       "      <td>Curtis Campher</td>\n",
       "      <td>Ruben Trumpelmann</td>\n",
       "      <td>Kushal Malla</td>\n",
       "      <td>Fred Klaassen</td>\n",
       "      <td>Mark Chapman</td>\n",
       "      <td>Ayaan Khan</td>\n",
       "      <td>Hila Vare</td>\n",
       "      <td>Oli Carter</td>\n",
       "      <td>Bjorn Fortuin</td>\n",
       "      <td>Kamindu Mendis</td>\n",
       "      <td>Dinesh Nakrani</td>\n",
       "      <td>Ali Khan</td>\n",
       "      <td>Shimron Hetmyer</td>\n",
       "      <td>NaN</td>\n",
       "    </tr>\n",
       "  </tbody>\n",
       "</table>\n",
       "</div>"
      ],
      "text/plain": [
       "          Afghanistan       Australia             Bangladesh           Canada  \\\n",
       "0         Rashid Khan  Mitchell Marsh  Najmul Hossain Shanto   Saad Bin Zafar   \n",
       "1      Ibrahim Zadran     Ashton Agar           Taskin Ahmed    Aaron Johnson   \n",
       "2  Azmatullah Omarzai     Pat Cummins             Litton Das  Dillon Heyliger   \n",
       "3   Najibullah Zadran       Tim David          Soumya Sarkar   Dilpreet Bajwa   \n",
       "4      Mohammad Ishaq    Nathan Ellis           Tanzid Hasan     Harsh Thaker   \n",
       "\n",
       "         England              India         Ireland             Namibia  \\\n",
       "0     Jos Buttler      Rohit Sharma   Paul Stirling     Gerhard Erasmus   \n",
       "1       Moeen Ali     Hardik Pandya      Mark Adair          Zane Green   \n",
       "2    Jofra Archer  Yashasvi Jaiswal      Ross Adair  Michael van Lingen   \n",
       "3  Jonny Bairstow       Virat Kohli  Andy Balbirnie       Dylan Leicher   \n",
       "4     Harry Brook  Suryakumar Yadav  Curtis Campher   Ruben Trumpelmann   \n",
       "\n",
       "            Nepal    Netherlands        New Zealand               Oman  \\\n",
       "0    Rohit Paudel  Scott Edwards    Kane Williamson         Aqib Ilyas   \n",
       "1    Aasif Sheikh     Aryan Dutt         Finn Allen    Zeeshan Maqsood   \n",
       "2  Anil Kumar Sah   Bas de Leede        Trent Boult  Kashyap Prajapati   \n",
       "3  Kushal Bhurtel   Daniel Doram  Michael Bracewell    Pratik Athavale   \n",
       "4    Kushal Malla  Fred Klaassen       Mark Chapman         Ayaan Khan   \n",
       "\n",
       "  Papua New Guinea           Scotland      South Africa          Sri Lanka  \\\n",
       "0       Assad Vala  Richie Berrington     Aiden Markram  Wanindu Hasaranga   \n",
       "1         Alei Nao      Matthew Cross  Ottniel Baartman   Charith Asalanka   \n",
       "2       Chad Soper     Bradley Currie    Gerald Coetzee       Kusal Mendis   \n",
       "3    Charles Amini      Chris Greaves   Quinton de Kock    Pathum Nissanka   \n",
       "4        Hila Vare         Oli Carter     Bjorn Fortuin     Kamindu Mendis   \n",
       "\n",
       "           Uganda   United States      West Indies  Pakistan  \n",
       "0    Brian Masaba    Monank Patel    Rovman Powell       NaN  \n",
       "1   Simon Ssesazi     Aaron Jones   Alzarri Joseph       NaN  \n",
       "2    Roger Mukasa    Andries Gous  Johnson Charles       NaN  \n",
       "3  Cosmas Kyewuta  Corey Anderson     Roston Chase       NaN  \n",
       "4  Dinesh Nakrani        Ali Khan  Shimron Hetmyer       NaN  "
      ]
     },
     "execution_count": 41,
     "metadata": {},
     "output_type": "execute_result"
    }
   ],
   "source": [
    "df_worldcup = pd.read_csv('docs/2024 wc squad.csv', encoding='latin1')\n",
    "df_worldcup.head()"
   ]
  },
  {
   "cell_type": "code",
   "execution_count": 42,
   "id": "146b27f6",
   "metadata": {},
   "outputs": [
    {
     "name": "stdout",
     "output_type": "stream",
     "text": [
      "['Rashid Khan', 'Ibrahim Zadran', 'Azmatullah Omarzai', 'Najibullah Zadran', 'Mohammad Ishaq', 'Mohammad Nabi', 'Gulbadin Naib', 'Karim Janat', 'Nangeyalia Kharote', 'Mujeeb Ur Rahman', 'Noor Ahmad', 'Naveen-ul-Haq', 'Fazalhaq Farooqi', 'Fareed Ahmad', nan, nan]\n"
     ]
    }
   ],
   "source": [
    "team_dict = df_worldcup.to_dict(orient='list')\n",
    "\n",
    "print(team_dict['Afghanistan'])"
   ]
  },
  {
   "cell_type": "code",
   "execution_count": 43,
   "id": "a2a211b7",
   "metadata": {
    "scrolled": true
   },
   "outputs": [
    {
     "data": {
      "text/plain": [
       "['Rashid Khan',\n",
       " 'Ibrahim Zadran',\n",
       " 'Azmatullah Omarzai',\n",
       " 'Najibullah Zadran',\n",
       " 'Mohammad Ishaq',\n",
       " 'Mohammad Nabi',\n",
       " 'Gulbadin Naib',\n",
       " 'Karim Janat',\n",
       " 'Nangeyalia Kharote',\n",
       " 'Mujeeb Ur Rahman',\n",
       " 'Noor Ahmad',\n",
       " 'Naveen-ul-Haq',\n",
       " 'Fazalhaq Farooqi',\n",
       " 'Fareed Ahmad']"
      ]
     },
     "execution_count": 43,
     "metadata": {},
     "output_type": "execute_result"
    }
   ],
   "source": [
    "team_dict = {key: [value.strip() for value in values if pd.notna(value)] for key, values in team_dict.items()}\n",
    "\n",
    "team_dict['Afghanistan']"
   ]
  },
  {
   "cell_type": "code",
   "execution_count": 44,
   "id": "b7bfbabb",
   "metadata": {},
   "outputs": [
    {
     "name": "stdout",
     "output_type": "stream",
     "text": [
      "Canada Kanwarpal Tathgur\n",
      "Namibia Jack Brassell\n",
      "Namibia Malan Kruger\n",
      "Namibia Peter-Daniel Blignaut\n",
      "Nepal Anil Kumar Sah\n",
      "Netherlands Daniel Doram\n",
      "Netherlands Michael Levitt\n",
      "Oman Khalid Kail\n",
      "Scotland Jack Jarvis\n",
      "Scotland Charlie Tear\n",
      "United States Harmeet Singh\n",
      "United States Nosthush Kenjige\n",
      "United States Shayan Jahangir\n"
     ]
    }
   ],
   "source": [
    "players_list = np.concatenate((df['bowl'].unique(), df['bat'].unique()))\n",
    "for team,players in team_dict.items():\n",
    "    for player in players:\n",
    "        if ((player not in players_list)|(player not in players_list)):\n",
    "            print(team,player)"
   ]
  },
  {
   "cell_type": "code",
   "execution_count": 45,
   "id": "aaf51b3f",
   "metadata": {},
   "outputs": [],
   "source": [
    "players=set()\n",
    "for key,vals in team_dict.items():\n",
    "    players.update(vals)"
   ]
  },
  {
   "cell_type": "code",
   "execution_count": 51,
   "id": "77d633b9",
   "metadata": {},
   "outputs": [
    {
     "data": {
      "text/plain": [
       "4995"
      ]
     },
     "execution_count": 51,
     "metadata": {},
     "output_type": "execute_result"
    }
   ],
   "source": [
    "len(matches_relevant)"
   ]
  },
  {
   "cell_type": "code",
   "execution_count": 53,
   "id": "c45f83e7",
   "metadata": {},
   "outputs": [],
   "source": [
    "matches_relevant=df[df['bat'].isin(players) | df['bowl'].isin(players)]['p_match'].unique()\n",
    "df=df[df['p_match'].isin(matches_relevant)]"
   ]
  },
  {
   "cell_type": "code",
   "execution_count": 54,
   "id": "41d037fb",
   "metadata": {},
   "outputs": [],
   "source": [
    "df_player_id_combs=df[['bat','p_bat','bowl','p_bowl']].drop_duplicates()"
   ]
  },
  {
   "cell_type": "code",
   "execution_count": 55,
   "id": "4af3f8ef",
   "metadata": {},
   "outputs": [
    {
     "data": {
      "text/html": [
       "<div>\n",
       "<style scoped>\n",
       "    .dataframe tbody tr th:only-of-type {\n",
       "        vertical-align: middle;\n",
       "    }\n",
       "\n",
       "    .dataframe tbody tr th {\n",
       "        vertical-align: top;\n",
       "    }\n",
       "\n",
       "    .dataframe thead th {\n",
       "        text-align: right;\n",
       "    }\n",
       "</style>\n",
       "<table border=\"1\" class=\"dataframe\">\n",
       "  <thead>\n",
       "    <tr style=\"text-align: right;\">\n",
       "      <th></th>\n",
       "      <th>Player</th>\n",
       "      <th>Country</th>\n",
       "      <th>p_id</th>\n",
       "    </tr>\n",
       "  </thead>\n",
       "  <tbody>\n",
       "    <tr>\n",
       "      <th>0</th>\n",
       "      <td>Rashid Khan</td>\n",
       "      <td>Afghanistan</td>\n",
       "      <td>793463</td>\n",
       "    </tr>\n",
       "    <tr>\n",
       "      <th>1</th>\n",
       "      <td>Ibrahim Zadran</td>\n",
       "      <td>Afghanistan</td>\n",
       "      <td>921509</td>\n",
       "    </tr>\n",
       "    <tr>\n",
       "      <th>2</th>\n",
       "      <td>Azmatullah Omarzai</td>\n",
       "      <td>Afghanistan</td>\n",
       "      <td>819429</td>\n",
       "    </tr>\n",
       "    <tr>\n",
       "      <th>3</th>\n",
       "      <td>Najibullah Zadran</td>\n",
       "      <td>Afghanistan</td>\n",
       "      <td>524049</td>\n",
       "    </tr>\n",
       "    <tr>\n",
       "      <th>4</th>\n",
       "      <td>Mohammad Ishaq</td>\n",
       "      <td>Afghanistan</td>\n",
       "      <td>1076579</td>\n",
       "    </tr>\n",
       "  </tbody>\n",
       "</table>\n",
       "</div>"
      ],
      "text/plain": [
       "               Player      Country     p_id\n",
       "0         Rashid Khan  Afghanistan   793463\n",
       "1      Ibrahim Zadran  Afghanistan   921509\n",
       "2  Azmatullah Omarzai  Afghanistan   819429\n",
       "3   Najibullah Zadran  Afghanistan   524049\n",
       "4      Mohammad Ishaq  Afghanistan  1076579"
      ]
     },
     "execution_count": 55,
     "metadata": {},
     "output_type": "execute_result"
    }
   ],
   "source": [
    "# Create a mapping of player names to player IDs\n",
    "player_id_map = {}\n",
    "for index, row in df_player_id_combs.iterrows():\n",
    "    if row['bat'] in player_id_map:\n",
    "        continue\n",
    "    player_id_map[row['bat']] = row['p_bat']\n",
    "    player_id_map[row['bowl']] = row['p_bowl']\n",
    "# Initialize lists to store data\n",
    "player_names = []\n",
    "countries = []\n",
    "player_ids = []\n",
    "\n",
    "# Iterate over the dictionary\n",
    "for country, players in team_dict.items():\n",
    "    for player in players:\n",
    "        player_names.append(player)\n",
    "        countries.append(country)\n",
    "        player_ids.append(player_id_map.get(player, None))\n",
    "\n",
    "# Create DataFrame from lists\n",
    "team_df = pd.DataFrame({'Player': player_names, 'Country': countries, 'p_id': player_ids})\n",
    "team_df['p_id'] = team_df['p_id'].astype('Int64')\n",
    "team_df.head()"
   ]
  },
  {
   "cell_type": "code",
   "execution_count": 56,
   "id": "363b0aa9",
   "metadata": {},
   "outputs": [],
   "source": [
    "worldcup_pitches=['Kensington Oval, Bridgetown, Barbados',\n",
    "                  'Sir Vivian Richards Stadium, North Sound, Antigua',\n",
    "                  'Providence Stadium, Guyana',\n",
    "                  'Daren Sammy National Cricket Stadium, Gros Islet, St Lucia',\n",
    "                  'Brian Lara Stadium, Tarouba, Trinidad',\n",
    "                  'Arnos Vale Ground, Kingstown, St Vincent',\n",
    "                  'Central Broward Regional Park Stadium Turf Ground, Lauderhill',\n",
    "                  'Nassau County International Cricket Stadium',\n",
    "                  'Grand Prairie Stadium'\n",
    "                 ]"
   ]
  },
  {
   "cell_type": "code",
   "execution_count": 28,
   "id": "b7749ac8",
   "metadata": {},
   "outputs": [
    {
     "data": {
      "text/plain": [
       "Index(['p_match', 'inns', 'bat', 'p_bat', 'team_bat', 'bowl', 'p_bowl',\n",
       "       'team_bowl', 'ball', 'ball_id', 'outcome', 'score', 'out', 'dismissal',\n",
       "       'p_out', 'over', 'noball', 'wide', 'byes', 'legbyes', 'cur_bat_runs',\n",
       "       'cur_bat_bf', 'cur_bowl_ovr', 'cur_bowl_wkts', 'cur_bowl_runs',\n",
       "       'inns_runs', 'inns_wkts', 'inns_balls', 'inns_runs_rem',\n",
       "       'inns_balls_rem', 'inns_rr', 'inns_rrr', 'target', 'max_balls', 'date',\n",
       "       'year', 'ground', 'country', 'winner', 'toss', 'competition',\n",
       "       'bat_hand', 'bowl_style', 'bowl_kind', 'batruns', 'ballfaced',\n",
       "       'bowlruns', 'bat_out', 'wagonX', 'wagonY', 'wagonZone', 'pitchLine',\n",
       "       'pitchLength', 'shotType'],\n",
       "      dtype='object')"
      ]
     },
     "execution_count": 28,
     "metadata": {},
     "output_type": "execute_result"
    }
   ],
   "source": [
    "df.columns"
   ]
  },
  {
   "cell_type": "code",
   "execution_count": 60,
   "id": "00113e08",
   "metadata": {},
   "outputs": [],
   "source": [
    "df1=df[df['ground'].isin(worldcup_pitches)].groupby(['p_match', 'inns']).agg({'batruns':'sum','ballfaced':'sum','ground':'first'}).reset_index()"
   ]
  },
  {
   "cell_type": "code",
   "execution_count": 64,
   "id": "06bff7a8",
   "metadata": {},
   "outputs": [
    {
     "data": {
      "text/html": [
       "<div>\n",
       "<style scoped>\n",
       "    .dataframe tbody tr th:only-of-type {\n",
       "        vertical-align: middle;\n",
       "    }\n",
       "\n",
       "    .dataframe tbody tr th {\n",
       "        vertical-align: top;\n",
       "    }\n",
       "\n",
       "    .dataframe thead th {\n",
       "        text-align: right;\n",
       "    }\n",
       "</style>\n",
       "<table border=\"1\" class=\"dataframe\">\n",
       "  <thead>\n",
       "    <tr style=\"text-align: right;\">\n",
       "      <th></th>\n",
       "      <th>inns</th>\n",
       "      <th>ground</th>\n",
       "      <th>result</th>\n",
       "    </tr>\n",
       "  </thead>\n",
       "  <tbody>\n",
       "    <tr>\n",
       "      <th>0</th>\n",
       "      <td>1</td>\n",
       "      <td>Brian Lara Stadium, Tarouba, Trinidad</td>\n",
       "      <td>140.89</td>\n",
       "    </tr>\n",
       "    <tr>\n",
       "      <th>1</th>\n",
       "      <td>1</td>\n",
       "      <td>Central Broward Regional Park Stadium Turf Gro...</td>\n",
       "      <td>159.59</td>\n",
       "    </tr>\n",
       "    <tr>\n",
       "      <th>2</th>\n",
       "      <td>1</td>\n",
       "      <td>Daren Sammy National Cricket Stadium, Gros Isl...</td>\n",
       "      <td>157.40</td>\n",
       "    </tr>\n",
       "    <tr>\n",
       "      <th>3</th>\n",
       "      <td>1</td>\n",
       "      <td>Kensington Oval, Bridgetown, Barbados</td>\n",
       "      <td>150.04</td>\n",
       "    </tr>\n",
       "    <tr>\n",
       "      <th>4</th>\n",
       "      <td>1</td>\n",
       "      <td>Providence Stadium, Guyana</td>\n",
       "      <td>145.95</td>\n",
       "    </tr>\n",
       "    <tr>\n",
       "      <th>5</th>\n",
       "      <td>1</td>\n",
       "      <td>Sir Vivian Richards Stadium, North Sound, Antigua</td>\n",
       "      <td>130.02</td>\n",
       "    </tr>\n",
       "    <tr>\n",
       "      <th>6</th>\n",
       "      <td>2</td>\n",
       "      <td>Brian Lara Stadium, Tarouba, Trinidad</td>\n",
       "      <td>141.01</td>\n",
       "    </tr>\n",
       "    <tr>\n",
       "      <th>7</th>\n",
       "      <td>2</td>\n",
       "      <td>Central Broward Regional Park Stadium Turf Gro...</td>\n",
       "      <td>147.70</td>\n",
       "    </tr>\n",
       "    <tr>\n",
       "      <th>8</th>\n",
       "      <td>2</td>\n",
       "      <td>Daren Sammy National Cricket Stadium, Gros Isl...</td>\n",
       "      <td>147.70</td>\n",
       "    </tr>\n",
       "    <tr>\n",
       "      <th>9</th>\n",
       "      <td>2</td>\n",
       "      <td>Kensington Oval, Bridgetown, Barbados</td>\n",
       "      <td>144.21</td>\n",
       "    </tr>\n",
       "    <tr>\n",
       "      <th>10</th>\n",
       "      <td>2</td>\n",
       "      <td>Providence Stadium, Guyana</td>\n",
       "      <td>144.97</td>\n",
       "    </tr>\n",
       "    <tr>\n",
       "      <th>11</th>\n",
       "      <td>2</td>\n",
       "      <td>Sir Vivian Richards Stadium, North Sound, Antigua</td>\n",
       "      <td>139.94</td>\n",
       "    </tr>\n",
       "  </tbody>\n",
       "</table>\n",
       "</div>"
      ],
      "text/plain": [
       "    inns                                             ground  result\n",
       "0      1              Brian Lara Stadium, Tarouba, Trinidad  140.89\n",
       "1      1  Central Broward Regional Park Stadium Turf Gro...  159.59\n",
       "2      1  Daren Sammy National Cricket Stadium, Gros Isl...  157.40\n",
       "3      1              Kensington Oval, Bridgetown, Barbados  150.04\n",
       "4      1                         Providence Stadium, Guyana  145.95\n",
       "5      1  Sir Vivian Richards Stadium, North Sound, Antigua  130.02\n",
       "6      2              Brian Lara Stadium, Tarouba, Trinidad  141.01\n",
       "7      2  Central Broward Regional Park Stadium Turf Gro...  147.70\n",
       "8      2  Daren Sammy National Cricket Stadium, Gros Isl...  147.70\n",
       "9      2              Kensington Oval, Bridgetown, Barbados  144.21\n",
       "10     2                         Providence Stadium, Guyana  144.97\n",
       "11     2  Sir Vivian Richards Stadium, North Sound, Antigua  139.94"
      ]
     },
     "execution_count": 64,
     "metadata": {},
     "output_type": "execute_result"
    }
   ],
   "source": [
    "# Define custom aggregation function\n",
    "def custom_agg(x):\n",
    "    result = (x['batruns'].sum() * 120) / x['ballfaced'].sum()\n",
    "    return round(result, 2)\n",
    "\n",
    "# Group by 'inns' and 'ground', and aggregate using custom aggregation function\n",
    "result_df = df1.groupby(['inns', 'ground']).apply(custom_agg).reset_index(name='result')\n",
    "\n",
    "result_df"
   ]
  }
 ],
 "metadata": {
  "kernelspec": {
   "display_name": "Python 3 (ipykernel)",
   "language": "python",
   "name": "python3"
  },
  "language_info": {
   "codemirror_mode": {
    "name": "ipython",
    "version": 3
   },
   "file_extension": ".py",
   "mimetype": "text/x-python",
   "name": "python",
   "nbconvert_exporter": "python",
   "pygments_lexer": "ipython3",
   "version": "3.11.4"
  }
 },
 "nbformat": 4,
 "nbformat_minor": 5
}
